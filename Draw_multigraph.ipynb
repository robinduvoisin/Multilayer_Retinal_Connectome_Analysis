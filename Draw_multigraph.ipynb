{
 "cells": [
  {
   "cell_type": "code",
   "execution_count": 2,
   "id": "00c4ac21",
   "metadata": {},
   "outputs": [
    {
     "data": {
      "text/html": [
       "        <script type=\"text/javascript\">\n",
       "        window.PlotlyConfig = {MathJaxConfig: 'local'};\n",
       "        if (window.MathJax && window.MathJax.Hub && window.MathJax.Hub.Config) {window.MathJax.Hub.Config({SVG: {font: \"STIX-Web\"}});}\n",
       "        if (typeof require !== 'undefined') {\n",
       "        require.undef(\"plotly\");\n",
       "        requirejs.config({\n",
       "            paths: {\n",
       "                'plotly': ['https://cdn.plot.ly/plotly-2.12.1.min']\n",
       "            }\n",
       "        });\n",
       "        require(['plotly'], function(Plotly) {\n",
       "            window._Plotly = Plotly;\n",
       "        });\n",
       "        }\n",
       "        </script>\n",
       "        "
      ]
     },
     "metadata": {},
     "output_type": "display_data"
    }
   ],
   "source": [
    "import numpy as np\n",
    "import os\n",
    "import plotly\n",
    "import plotly.graph_objects as go\n",
    "import plotly.express as px\n",
    "import pandas as pd\n",
    "import sqlite3\n",
    "import networkx as nx\n",
    "import multinetx as mx\n",
    "from tqdm import tqdm\n",
    "from scipy import sparse\n",
    "plotly.offline.init_notebook_mode(connected=True)\n",
    "import random"
   ]
  },
  {
   "cell_type": "code",
   "execution_count": 5,
   "id": "e77d8a85",
   "metadata": {},
   "outputs": [],
   "source": [
    "os.getcwd()\n",
    "os.chdir('C:\\\\Users\\\\rduvo\\\\Desktop\\\\ComplexNetwork\\\\Idea_of_Project\\\\circuitdata\\\\mouseretina')\n",
    "Final_WG=nx.read_gml(\"Final_graph_cleaned.gml\")\n",
    "All_limit_of_interest_name=['gc','nac','mwac','bc']\n",
    "gc_layer=[1,36]\n",
    "nac_layer=[37,217]\n",
    "mwaclayer=[218,389]\n",
    "bc_layer=[414,840]\n",
    "other_layer=[390,413]\n",
    "bc_newlay=[lay-(other_layer[1]-other_layer[0]+1) for lay in bc_layer]\n",
    "All_limit_of_interest=[lay for lay in [gc_layer,nac_layer,mwaclayer,bc_newlay]]\n"
   ]
  },
  {
   "cell_type": "code",
   "execution_count": 3,
   "id": "8cc3e5ab",
   "metadata": {},
   "outputs": [],
   "source": [
    "os.chdir('C:\\\\Users\\\\rduvo\\\\Desktop\\\\ComplexNetwork\\\\Idea_of_Project\\\\Multilayer-networks-library')\n",
    "from pymnet import *\n",
    "os.chdir('C:\\\\Users\\\\rduvo\\\\Desktop\\\\ComplexNetwork\\\\Idea_of_Project\\\\circuitdata\\\\mouseretina')\n"
   ]
  },
  {
   "cell_type": "code",
   "execution_count": 11,
   "id": "d694d180",
   "metadata": {},
   "outputs": [
    {
     "data": {
      "text/plain": [
       "35"
      ]
     },
     "execution_count": 11,
     "metadata": {},
     "output_type": "execute_result"
    }
   ],
   "source": [
    "rdm_n=random.randint(0,1000)\n",
    "    if rdm_n<=1:"
   ]
  },
  {
   "cell_type": "code",
   "execution_count": 44,
   "id": "13a72eb9",
   "metadata": {},
   "outputs": [
    {
     "name": "stdout",
     "output_type": "stream",
     "text": [
      "2\n",
      "9\n",
      "9\n",
      "21\n",
      "[26, 10, 58, 101, 46, 169, 141, 99, 59, 180, 199, 258, 364, 358, 310, 305, 218, 306, 297, 232, 576, 461, 687, 393, 653, 471, 775, 555, 467, 559, 561, 446, 607, 809, 538, 436, 451, 669, 494, 686, 595]\n"
     ]
    }
   ],
   "source": [
    "List_nodes_selected=[]\n",
    "for lay in All_limit_of_interest:\n",
    "    Nbrs_node_l_P=round((lay[1]-lay[0])*0.05)\n",
    "    print(Nbrs_node_l_P)\n",
    "    rdm_n=random.sample(range(lay[0],lay[1]),Nbrs_node_l_P)\n",
    "    for n_i in rdm_n:\n",
    "        List_nodes_selected.append(n_i)\n",
    "print(List_nodes_selected)"
   ]
  },
  {
   "cell_type": "code",
   "execution_count": 61,
   "id": "5b38550a",
   "metadata": {},
   "outputs": [
    {
     "name": "stdout",
     "output_type": "stream",
     "text": [
      "183\n"
     ]
    }
   ],
   "source": [
    "##Draw Multilayer 10% of nodes\n",
    "nb_edges_10P=0\n",
    "# Generates layers\n",
    "Mnet_W = MultilayerNetwork(aspects=1,fullyInterconnected = False)\n",
    "Mnet_Nw = MultilayerNetwork(aspects=1,fullyInterconnected = False)\n",
    "Mnet_Nw_10P=MultilayerNetwork(aspects=1,fullyInterconnected = False)\n",
    "nb_edges_10P=0\n",
    "for lay in All_limit_of_interest_name:\n",
    "    Mnet_W.add_layer(lay)\n",
    "    Mnet_Nw.add_layer(lay)\n",
    "    Mnet_Nw_10P.add_layer(lay)\n",
    "\n",
    "# save nodes types dict\n",
    "dict_node={}\n",
    "for i,lay_i in enumerate(All_limit_of_interest):\n",
    "    for n_i in range(lay_i[0]-1,lay_i[1]):\n",
    "        dict_node[n_i]=All_limit_of_interest_name[i]\n",
    "# Add all edges\n",
    "for e_i in list(Final_WG.edges(data=True)):\n",
    "    n1_l=dict_node[int(e_i[0])] #layer name between the nodes\n",
    "    n2_l=dict_node[int(e_i[1])]\n",
    "    Mnet_W[e_i[0],n1_l][e_i[1],n2_l]=e_i[2]['weight']\n",
    "    Mnet_Nw[e_i[0],n1_l][e_i[1],n2_l]=1\n",
    "    if int(e_i[0]) in List_nodes_selected and int(e_i[1]) in List_nodes_selected:\n",
    "        nb_edges_10P+=1\n",
    "        Mnet_Nw_10P[e_i[0],n1_l][e_i[1],n2_l]=1\n",
    "        \n",
    "print(nb_edges_10P)   \n",
    "Colors_l=['blue','green','orange','red']\n",
    "LayerColor={All_limit_of_interest_name[i]:Colors_l[i] for i,l_i in enumerate(All_limit_of_interest_name)}\n",
    "layerOrder={All_limit_of_interest_name[i]:i for i,l_i in enumerate(All_limit_of_interest_name)}\n",
    "layerOrder={'gc':0,'mwac':1,'nac':2,'bc':3}\n",
    "nodeLabel={str(n_i):'' for n_i in List_nodes_selected}"
   ]
  },
  {
   "cell_type": "code",
   "execution_count": 60,
   "id": "ebabe2e9",
   "metadata": {},
   "outputs": [
    {
     "data": {
      "text/plain": [
       "{'gc': 0, 'nac': 1, 'mwac': 2, 'bc': 3}"
      ]
     },
     "execution_count": 60,
     "metadata": {},
     "output_type": "execute_result"
    }
   ],
   "source": [
    "layerOrder"
   ]
  },
  {
   "cell_type": "code",
   "execution_count": 62,
   "id": "fcd5db60",
   "metadata": {},
   "outputs": [],
   "source": [
    "Colors_l=['blue','green','orange','red']\n",
    "LayerColor={All_limit_of_interest_name[i]:Colors_l[i] for i,l_i in enumerate(All_limit_of_interest_name)}\n",
    "fig = draw(Mnet_Nw_10P,figsize = (15,15), defaultLayerLabelLoc = (1,1.04),layerColorDict=LayerColor,layerOrderDict=layerOrder,nodeLabelDict=nodeLabel,defaultLayerAlpha=0.55,defaultNodeLabelAlpha=0.0) \n",
    "fig.savefig(\"FINAL_05_percent_multilayer.png\")"
   ]
  },
  {
   "cell_type": "code",
   "execution_count": 38,
   "id": "5d82c2e0",
   "metadata": {},
   "outputs": [
    {
     "name": "stdout",
     "output_type": "stream",
     "text": [
      "63028\n"
     ]
    }
   ],
   "source": [
    "print(len(Final_WG.edges))"
   ]
  },
  {
   "cell_type": "code",
   "execution_count": 47,
   "id": "5579a877",
   "metadata": {},
   "outputs": [
    {
     "data": {
      "text/plain": [
       "{'gc': 'blue', 'nac': 'green', 'mwac': 'orange', 'bc': 'red'}"
      ]
     },
     "execution_count": 47,
     "metadata": {},
     "output_type": "execute_result"
    }
   ],
   "source": [
    "Colors_l=['blue','green','orange','red']\n",
    "LayerColor={All_limit_of_interest_name[i]:Colors_l[i] for i,l_i in enumerate(All_limit_of_interest_name)}\n",
    "LayerColor"
   ]
  },
  {
   "cell_type": "code",
   "execution_count": 48,
   "id": "17804f5b",
   "metadata": {},
   "outputs": [
    {
     "data": {
      "text/plain": [
       "{'gc': 0, 'nac': 1, 'mwac': 2, 'bc': 3}"
      ]
     },
     "execution_count": 48,
     "metadata": {},
     "output_type": "execute_result"
    }
   ],
   "source": [
    "layerOrder={All_limit_of_interest_name[i]:i for i,l_i in enumerate(All_limit_of_interest_name)}\n",
    "layerOrder"
   ]
  },
  {
   "cell_type": "code",
   "execution_count": 57,
   "id": "c6d2250c",
   "metadata": {},
   "outputs": [
    {
     "data": {
      "text/plain": [
       "['gc', 'nac', 'mwac', 'bc']"
      ]
     },
     "execution_count": 57,
     "metadata": {},
     "output_type": "execute_result"
    }
   ],
   "source": [
    "All_limit_of_interest_name"
   ]
  },
  {
   "cell_type": "code",
   "execution_count": 59,
   "id": "f62d4cd1",
   "metadata": {},
   "outputs": [],
   "source": [
    "## Draw Multilayer Full_each_layer\n",
    "# Generates layers\n",
    "Mnet_NW_all_l = [MultilayerNetwork(aspects=1,fullyInterconnected = False) for i in All_limit_of_interest]\n",
    "for i,lay in enumerate(All_limit_of_interest_name):\n",
    "    Mnet_NW_all_l[i].add_layer(lay)\n",
    "\n",
    "# save nodes types dict\n",
    "dict_node={}\n",
    "for i,lay_i in enumerate(All_limit_of_interest):\n",
    "    for n_i in range(lay_i[0]-1,lay_i[1]):\n",
    "        dict_node[n_i]=All_limit_of_interest_name[i]\n",
    "# Add all edges\n",
    "for e_i in list(Final_WG.edges(data=True)):\n",
    "    n1_l=dict_node[int(e_i[0])] #layer name between the nodes\n",
    "    n2_l=dict_node[int(e_i[1])]\n",
    "    if n2_l==n1_l:\n",
    "        if n2_l=='gc':\n",
    "            Mnet_NW_all_l[0][e_i[0],n1_l][e_i[1],n2_l]=1\n",
    "        elif n2_l=='nac':\n",
    "            Mnet_NW_all_l[1][e_i[0],n1_l][e_i[1],n2_l]=1\n",
    "        elif n2_l=='mwac':\n",
    "            Mnet_NW_all_l[2][e_i[0],n1_l][e_i[1],n2_l]=1\n",
    "        elif n2_l=='bc':\n",
    "            Mnet_NW_all_l[3][e_i[0],n1_l][e_i[1],n2_l]=1\n",
    "for i,lay in enumerate(All_limit_of_interest_name):\n",
    "    fig = draw(Mnet_NW_all_l[i],figsize = (15,15), defaultLayerLabelLoc = (1,1.04),defaultLayerColor=Colors_l[i],defaultLayerAlpha=0.55,defaultNodeLabelAlpha=0.0) \n",
    "    fig.savefig(\"FINAL_\"+lay+\"_multilayer.png\")"
   ]
  },
  {
   "cell_type": "code",
   "execution_count": null,
   "id": "e5e19c0e",
   "metadata": {},
   "outputs": [],
   "source": [
    "defaultLayerColor"
   ]
  },
  {
   "cell_type": "code",
   "execution_count": 8,
   "id": "9f20713c",
   "metadata": {},
   "outputs": [],
   "source": [
    "#draw condensation, expension, horizontal\n",
    "# Generates layers\n",
    "Mnet_C = MultilayerNetwork(aspects=1,fullyInterconnected = False)\n",
    "Mnet_E = MultilayerNetwork(aspects=1,fullyInterconnected = False)\n",
    "Mnet_H = MultilayerNetwork(aspects=1,fullyInterconnected = False)\n",
    "\n",
    "for lay in ['lay1','lay2']:\n",
    "    Mnet_C.add_layer(lay)\n",
    "    Mnet_E.add_layer(lay)\n",
    "Mnet_H.add_layer('lay1')\n",
    "# Add all edges\n",
    "Mnet_H[1,'lay1'][2,'lay1']=1\n",
    "Mnet_H[1,'lay1'][3,'lay1']=1\n",
    "Mnet_H[2,'lay1'][3,'lay1']=1\n",
    "\n",
    "Mnet_E[1,'lay1'][2,'lay2']=1\n",
    "Mnet_E[1,'lay1'][3,'lay1']=1\n",
    "Mnet_E[2,'lay2'][3,'lay1']=1\n",
    "\n",
    "Mnet_C[1,'lay2'][2,'lay1']=1\n",
    "Mnet_C[1,'lay2'][3,'lay2']=1\n",
    "Mnet_C[2,'lay1'][3,'lay2']=1\n",
    "\n",
    "LayerColor=['orange','red']\n",
    "\n",
    "fig = draw(Mnet_H,figsize = (15,15), defaultLayerLabelLoc = (1,1.04),defaultLayerLabelAlpha =0.0,layerColorDict=LayerColor,defaultLayerAlpha=0.55,defaultNodeLabelAlpha=1) \n",
    "fig.savefig(\"FINAL_Horizotal_cluster_multilayer.png\")\n",
    "\n",
    "fig = draw(Mnet_C,figsize = (15,15), defaultLayerLabelLoc = (1,1.04),defaultLayerLabelAlpha =0.0,layerColorDict=LayerColor,defaultLayerAlpha=0.55,defaultNodeLabelAlpha=1) \n",
    "fig.savefig(\"FINAL_Condensation_cluster_multilayer.png\")\n",
    "\n",
    "fig = draw(Mnet_E,figsize = (15,15), defaultLayerLabelLoc = (1,1.04),defaultLayerLabelAlpha =0.0,layerColorDict=LayerColor,defaultLayerAlpha=0.55,defaultNodeLabelAlpha=1) \n",
    "fig.savefig(\"FINAL_Expension_cluster_multilayer.png\")"
   ]
  },
  {
   "cell_type": "code",
   "execution_count": null,
   "id": "92fce1ad",
   "metadata": {},
   "outputs": [],
   "source": []
  }
 ],
 "metadata": {
  "kernelspec": {
   "display_name": "Python 3 (ipykernel)",
   "language": "python",
   "name": "python3"
  },
  "language_info": {
   "codemirror_mode": {
    "name": "ipython",
    "version": 3
   },
   "file_extension": ".py",
   "mimetype": "text/x-python",
   "name": "python",
   "nbconvert_exporter": "python",
   "pygments_lexer": "ipython3",
   "version": "3.11.5"
  }
 },
 "nbformat": 4,
 "nbformat_minor": 5
}
